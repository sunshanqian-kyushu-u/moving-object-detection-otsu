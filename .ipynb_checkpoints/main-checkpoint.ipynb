{
 "cells": [
  {
   "cell_type": "markdown",
   "id": "511b4611",
   "metadata": {},
   "source": [
    "This research is about a Otsu method-based moving object detection method"
   ]
  },
  {
   "cell_type": "markdown",
   "id": "5876e9f8",
   "metadata": {},
   "source": [
    "## Table of contents\n",
    "- [Project structure](#anchor1)\n",
    "- [Foreground detection](#anchor2)\n",
    "  - [How to use](#anchor3)\n",
    "  - [Use cases](#anchor4)\n",
    "- [Background detection](#anchor5)\n",
    "  - [What is ANN](#anchor6)\n",
    "  - [How to use](#anchor7)\n",
    "  - [Use cases](#anchor8)\n",
    "- [paper link](paper/A_Moving_Object_Detection_Method_Based_on_the_Otsu_Method.pdf)"
   ]
  },
  {
   "cell_type": "markdown",
   "id": "216c7805",
   "metadata": {},
   "source": [
    "### Project structure <a name=\"anchor1\"></a>\n",
    "There are four folders: \n",
    "- test_img\n",
    "- foreground_img\n",
    "- binarization_img\n",
    "- paper\n",
    "\n",
    "*'test_img'* contains 11 test images in which *'000000.jpg'* is the background image; \n",
    "\n",
    "*'foreground_img'* is for saving images with the foreground; \n",
    "\n",
    "*'binarization_img'* contains the binarized images; \n",
    "\n",
    "Related thesis is placed in the *'paper'* folder. "
   ]
  },
  {
   "cell_type": "markdown",
   "id": "b3332805",
   "metadata": {},
   "source": [
    "### Foreground detection <a name=\"anchor2\"></a>\n",
    "#### How to use <a name=\"anchor3\"></a>\n",
    "Put your images in a folder, and use \n",
    "```\n",
    "get_foreground_median(folder_path, output_path, binarization='n')\n",
    "```\n",
    "function, in which `folder_path` is images path, `output_path` to put output images. \n",
    "\n",
    "And you can `binarization` images with the Otsu method. "
   ]
  },
  {
   "cell_type": "code",
   "execution_count": 7,
   "id": "0c28b1be",
   "metadata": {},
   "outputs": [],
   "source": [
    "from os import listdir\n",
    "from PIL import Image\n",
    "import numpy as np\n",
    "import cv2\n",
    "\n",
    "def get_foreground_median(folder_path, output_path, binarization='n'):\n",
    "    \n",
    "    ###################\n",
    "    # read image name #\n",
    "    ###################\n",
    "    img_name_list = []\n",
    "    for img_name in listdir(folder_path):\n",
    "        img_name_list.append(str(img_name))\n",
    "#     print(img_name_list)\n",
    "    \n",
    "    ##############\n",
    "    # read image #\n",
    "    ##############\n",
    "    img_list = []\n",
    "    for img_name in img_name_list:\n",
    "        img_list.append(np.asarray(Image.open(folder_path + img_name).convert('L'))) # convert to gray-scale\n",
    "#     print(img_list[0].shape)\n",
    "\n",
    "    ###########################\n",
    "    # calculate median image #\n",
    "    ###########################\n",
    "    img_array = np.asarray(img_list, np.float64) # convert list to array\n",
    "#     print(img_array.shape) # (11, 480, 1140)\n",
    "    average_img = np.median(img_array, axis=0)\n",
    "#     print(average_img.shape) #  (480, 1140)\n",
    "#     print(average_img)\n",
    "    \n",
    "    ###########################################\n",
    "    # minus average image from original image #\n",
    "    ###########################################\n",
    "    img_array -= average_img\n",
    "#     print(img_array)\n",
    "    img_array = np.abs(img_array)\n",
    "#     print(img_array)\n",
    "    img_array = np.around(img_array).astype(np.uint8)\n",
    "#     print(img_array)\n",
    "\n",
    "    ################\n",
    "    # binarization #\n",
    "    ################\n",
    "    if binarization == 'y':\n",
    "        for i in range(len(img_array)):\n",
    "            _, img_array[i] = cv2.threshold(img_array[i], 0, 255, cv2.THRESH_BINARY + cv2.THRESH_OTSU)\n",
    "    \n",
    "    ##############\n",
    "    # output img #\n",
    "    ##############\n",
    "    for i in range(len(img_array)):\n",
    "        Image.fromarray(img_array[i]).save(output_path + img_name_list[i], compress_level=0)"
   ]
  },
  {
   "cell_type": "markdown",
   "id": "ad4cc739",
   "metadata": {},
   "source": [
    "#### Use cases <a name=\"anchor4\"></a>"
   ]
  },
  {
   "cell_type": "code",
   "execution_count": 8,
   "id": "33812ffd",
   "metadata": {},
   "outputs": [],
   "source": [
    "test_img_path = 'test_img/'\n",
    "foreground_img_path = 'foreground_img/'\n",
    "binarization_img_path = 'binarization_img/'\n",
    "\n",
    "##################################\n",
    "# get images with the foreground #\n",
    "##################################\n",
    "get_foreground_median(test_img_path, foreground_img_path)\n",
    "\n",
    "############################\n",
    "# get the binarized images #\n",
    "############################\n",
    "get_foreground_median(test_img_path, binarization_img_path, binarization='y')"
   ]
  },
  {
   "cell_type": "markdown",
   "id": "a6de9be7",
   "metadata": {},
   "source": [
    "### Background detection <a name=\"anchor5\"></a>\n",
    "<img src=binarization_img/000001.jpg width=50% />\n",
    "\n",
    "The image above shows an good binarizatione xample. However, to the background image *'000000,jpg'*, some pixels are regarded as foreground as there is no foreground, like the image below: \n",
    "\n",
    "<img src=binarization_img/000000.jpg width=50% />\n",
    "\n",
    "We use **Average Nearest Neighbor (ANN)** to distinguish these background only images. "
   ]
  },
  {
   "cell_type": "markdown",
   "id": "a1f6dff8",
   "metadata": {},
   "source": [
    "#### What is ANN <a name=\"anchor6\"></a>\n",
    "The **ANN** is calculated as the **observed average distance** divided by the **expected average distance**, and can be expressed as\n",
    "$$\n",
    "ANN=\\frac{\\overline{D_o}}{\\overline{D_e}},\n",
    "$$\n",
    "in which $\\overline{D_o}$ is the **observed average distance** and $\\overline{D_e}$ is the **expected average distance**, and they can be expressed as\n",
    "$$\n",
    "\\overline{D_o}=\\frac{\\sum_{i=1}^{n}d_i}{n}\n",
    "$$\n",
    "\n",
    "$$\n",
    "\\overline{D_e}=\\frac{0.5}{\\sqrt{\\frac{n}{A}}}\n",
    "$$\n",
    "in which $d_i$ is the distance between a white pixel to its nearest other white pixel, and $n$ is the indexes of the white pixels, $A$ is the area of an image. "
   ]
  },
  {
   "cell_type": "markdown",
   "id": "afa51794",
   "metadata": {},
   "source": [
    "#### How to use <a name=\"anchor7\"></a>\n",
    "Use \n",
    "```\n",
    "cal_ANN(img_path)\n",
    "```\n",
    "function to calculate ANN to distinguish background images and foreground images. "
   ]
  },
  {
   "cell_type": "code",
   "execution_count": 56,
   "id": "1075b647",
   "metadata": {},
   "outputs": [],
   "source": [
    "from PIL import Image\n",
    "import numpy as np\n",
    "import cv2\n",
    "import matplotlib.pyplot as plt\n",
    "from scipy.spatial import KDTree\n",
    "from math import sqrt\n",
    "\n",
    "palette = [0, 0, 0, 255, 255, 255]\n",
    "\n",
    "def cal_ANN(img_path):\n",
    "    \n",
    "    ##############\n",
    "    # read image #\n",
    "    ##############\n",
    "    img = Image.open(img_path).convert('L') # convert to gray-scale\n",
    "    img = np.asarray(img) # convert to array\n",
    "#     print(img.shape)\n",
    "\n",
    "    ################\n",
    "    # binarization #\n",
    "    ################\n",
    "    _, img = cv2.threshold(img, 127, 1, cv2.THRESH_BINARY) # let white pixel value 1\n",
    "#     print(img)\n",
    "#     img = Image.fromarray(img).convert('P')\n",
    "#     img.putpalette(palette)\n",
    "#     plt.figure()\n",
    "#     plt.imshow(img)\n",
    "\n",
    "    #################\n",
    "    # calculate ANN #\n",
    "    #################\n",
    "    ANN = _cal_ANN(img)\n",
    "    return ANN\n",
    "    \n",
    "def _cal_ANN(img):\n",
    "    \n",
    "    #############################\n",
    "    # get foreground coordinate #\n",
    "    #############################\n",
    "    foreground_coordinate = np.argwhere(img != 0)\n",
    "#     print(foreground_coordinate)\n",
    "    n = len(foreground_coordinate)\n",
    "#     print(n)\n",
    "\n",
    "    tree = KDTree(foreground_coordinate)\n",
    "    \n",
    "    #############################################################################\n",
    "    # calculate diatance to the second closest point (the closest is to itself) #\n",
    "    #############################################################################\n",
    "    distance, _ = tree.query(foreground_coordinate, k=[2])\n",
    "#     print(distance)\n",
    "\n",
    "    ################\n",
    "    # sum distance #\n",
    "    ################\n",
    "    distance = np.sum(distance)\n",
    "#     print(distance)\n",
    "    \n",
    "    ######\n",
    "    # Do #\n",
    "    ######\n",
    "    Do = distance / n\n",
    "#     print(Do)\n",
    "\n",
    "    Y = img.shape[0]\n",
    "    X = img.shape[1]\n",
    "    A = Y * X\n",
    "#     print(A)\n",
    "    \n",
    "    ######\n",
    "    # De #\n",
    "    ######\n",
    "    De = 0.5 / sqrt(n / A)\n",
    "    \n",
    "    return Do / De"
   ]
  },
  {
   "cell_type": "markdown",
   "id": "15cd370c",
   "metadata": {},
   "source": [
    "#### <font color=DCDCDC>Code test</font> <a name=\"anchor8\"></a>"
   ]
  },
  {
   "cell_type": "code",
   "execution_count": 57,
   "id": "dadc7474",
   "metadata": {},
   "outputs": [
    {
     "name": "stdout",
     "output_type": "stream",
     "text": [
      "[[0 0 1 0]\n",
      " [0 1 0 0]\n",
      " [0 0 1 0]]\n",
      "1.4142135623730951\n"
     ]
    }
   ],
   "source": [
    "test_img = np.array([0, 0, 1, 0, 0, 1, 0, 0, 0, 0, 1, 0]).reshape((3, 4))\n",
    "print(test_img)\n",
    "ANN = _cal_ANN(test_img)\n",
    "print(ANN)"
   ]
  },
  {
   "cell_type": "markdown",
   "id": "ccc39c57",
   "metadata": {},
   "source": [
    "#### Use cases <a name=\"anchor8\"></a>"
   ]
  },
  {
   "cell_type": "code",
   "execution_count": 58,
   "id": "64abfddb",
   "metadata": {},
   "outputs": [
    {
     "name": "stdout",
     "output_type": "stream",
     "text": [
      "1.087569832557552\n",
      "0.14013132150041546\n"
     ]
    }
   ],
   "source": [
    "######################\n",
    "# background img ANN #\n",
    "######################\n",
    "test_img_path = 'binarization_img/000000.jpg'\n",
    "ANN = cal_ANN(test_img_path)\n",
    "print(ANN)\n",
    "\n",
    "#############################\n",
    "# having foreground img ANN #\n",
    "#############################\n",
    "test_img_path = 'binarization_img/000001.jpg'\n",
    "ANN = cal_ANN(test_img_path)\n",
    "print(ANN)"
   ]
  }
 ],
 "metadata": {
  "kernelspec": {
   "display_name": "Python 3 (ipykernel)",
   "language": "python",
   "name": "python3"
  },
  "language_info": {
   "codemirror_mode": {
    "name": "ipython",
    "version": 3
   },
   "file_extension": ".py",
   "mimetype": "text/x-python",
   "name": "python",
   "nbconvert_exporter": "python",
   "pygments_lexer": "ipython3",
   "version": "3.9.13"
  }
 },
 "nbformat": 4,
 "nbformat_minor": 5
}
